{
 "cells": [
  {
   "cell_type": "code",
   "execution_count": null,
   "metadata": {},
   "outputs": [],
   "source": [
    "import requests\n",
    "from bs4 import BeautifulSoup\n",
    "import time\n",
    "import csv\n",
    "import os.path\n",
    "from selenium import webdriver\n",
    "from webdriver_manager.chrome import ChromeDriverManager"
   ]
  },
  {
   "cell_type": "code",
   "execution_count": null,
   "metadata": {},
   "outputs": [],
   "source": [
    "parent_url = 'https://www.prokabaddi.com'\n",
    "teams_rel_loc= 'teams'\n",
    "players_rel_loc = 'players' \n",
    "teams = ['bwarriors','bbulls']\n",
    "team_loc_dict = {\"bwarriors\":\"bengal-warriors-profile-4\",\n",
    "                \"bbulls\" : \"bengaluru-bulls-profile-1\",\n",
    "              \"ddelhi\": \"dabang-delhi-kc-profile-2\"}\n",
    "base_op_dir = './data/'"
   ]
  },
  {
   "cell_type": "code",
   "execution_count": null,
   "metadata": {},
   "outputs": [],
   "source": [
    "class utils:\n",
    "    def make_url(base_url, *rel_locs):\n",
    "        final_url = base_url\n",
    "        for loc in rel_locs:\n",
    "            final_url = final_url + '/' + loc\n",
    "        return final_url"
   ]
  },
  {
   "cell_type": "code",
   "execution_count": null,
   "metadata": {},
   "outputs": [],
   "source": [
    "def write_to_file(filenameprefix, name, list_of_statvals, header):\n",
    "    print(header)\n",
    "    filename  = filenameprefix+'.csv'\n",
    "    filepath = '/'.join([base_op_dir,filename])\n",
    "    list_of_statvals.append(name)\n",
    "    file_exists = os.path.isfile(filepath)\n",
    "    with open(filepath, 'w') as season_file:\n",
    "            wr = csv.writer(season_file, quoting=csv.QUOTE_ALL)\n",
    "            if not file_exists:\n",
    "                wr.writerow(header)\n",
    "            wr.writerow(list_of_statvals)"
   ]
  },
  {
   "cell_type": "code",
   "execution_count": null,
   "metadata": {},
   "outputs": [],
   "source": [
    "def init_stats(browser):\n",
    "    browser.get(player_url)\n",
    "    time.sleep(5)\n",
    "    stats_page = browser.find_element_by_xpath('//div[@data-tabtype=\"stats\"]')\n",
    "    print(stats_page)\n",
    "    stats_page.click()"
   ]
  },
  {
   "cell_type": "code",
   "execution_count": null,
   "metadata": {},
   "outputs": [],
   "source": [
    "def get_stats_for_player(browser):\n",
    "    right_header_section = soup.find('div', class_='si-right').find(\"div\", class_='si-tbl-header')\n",
    "    col_name_divs = right_header_section.findAll('div',class_='si-data-block')\n",
    "    col_names = []\n",
    "    row_names = []\n",
    "    for col in col_name_divs:\n",
    "        col_names.append(col.text)\n",
    "    col_names = [name.replace(' ','') for name in col_names]\n",
    "    \n",
    "    prev_section = right_header_section\n",
    "    stats_dict = dict()\n",
    "    while 4<5:\n",
    "        right_data_section = prev_section.findNext(\"div\", class_='si-tbl-wraper')\n",
    "        if right_data_section:\n",
    "            all_values = right_data_section.findAll('div', class_='si-tbl-data')\n",
    "            i=0\n",
    "            for col_val in all_values:\n",
    "                val_list=[]\n",
    "                all_vals_for_column = col_val.findAll('div', class_='si-data-block')\n",
    "                for val in all_vals_for_column:\n",
    "                    val_list.append(val.get_text().strip())\n",
    "                if col_names[i] not in stats_dict:\n",
    "                    stats_dict['%s' %(col_names[i])]=val_list\n",
    "                else:\n",
    "                    stats_dict['%s' %(col_names[i])].extend(val_list)\n",
    "                i=i+1\n",
    "        else:\n",
    "            break\n",
    "        prev_section = right_data_section\n",
    "        \n",
    "    row_name_divs = soup.find('div', class_='si-left').findAll(\"div\", class_='si-tbl-wraper')\n",
    "    row_names=[]\n",
    "    for name_div in row_name_divs:\n",
    "        temp = name_div.findAll(\"div\", class_='si-data-block')\n",
    "        for row_div in temp:\n",
    "            row_names.append(row_div.find(text=True, recursive=False))\n",
    "    row_names.pop(0)\n",
    "    row_names.append('player_name')\n",
    "    \n",
    "    return(col_names, row_names, stats_dict)"
   ]
  },
  {
   "cell_type": "code",
   "execution_count": null,
   "metadata": {},
   "outputs": [],
   "source": [
    "team_url = 'https://www.prokabaddi.com/teams/bengaluru-bulls-profile-1/players' #Convert to a loop, of all teams\n",
    "browser = webdriver.Chrome(ChromeDriverManager().install())\n",
    "browser.get(team_url)\n",
    "time.sleep(3)\n",
    "soup = BeautifulSoup(browser.page_source, \"html.parser\")\n",
    "name_list = soup.find('div', 'si-page-plyrWrp').findAll(\"a\", {\"class\": \"si-plyrBox\"})\n",
    "all_player_urls=[]\n",
    "for name_tag in name_list:\n",
    "    all_player_urls.append(utils.make_url(parent_url,name_tag['href']))"
   ]
  },
  {
   "cell_type": "code",
   "execution_count": null,
   "metadata": {},
   "outputs": [],
   "source": [
    "for player_url in all_player_urls:\n",
    "    print(player_url)\n",
    "    init_stats(browser)\n",
    "    soup = BeautifulSoup(browser.page_source, \"html.parser\")\n",
    "    player_name = soup.find('span', class_='si-name').get_text()\n",
    "    col_names,row_names,data = get_stats_for_player(browser)\n",
    "    for season_val in col_names:\n",
    "        write_to_file(season_val, player_name, data[season_val], row_names)\n",
    "browser.close()"
   ]
  },
  {
   "cell_type": "code",
   "execution_count": null,
   "metadata": {},
   "outputs": [],
   "source": [
    "browser.close()"
   ]
  },
  {
   "cell_type": "code",
   "execution_count": null,
   "metadata": {},
   "outputs": [],
   "source": []
  }
 ],
 "metadata": {
  "kernelspec": {
   "display_name": "Python 3",
   "language": "python",
   "name": "python3"
  },
  "language_info": {
   "codemirror_mode": {
    "name": "ipython",
    "version": 3
   },
   "file_extension": ".py",
   "mimetype": "text/x-python",
   "name": "python",
   "nbconvert_exporter": "python",
   "pygments_lexer": "ipython3",
   "version": "3.7.3"
  }
 },
 "nbformat": 4,
 "nbformat_minor": 2
}
